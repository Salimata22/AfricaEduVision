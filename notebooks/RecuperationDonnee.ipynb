{
  "cells": [
    {
      "cell_type": "code",
      "execution_count": null,
      "metadata": {
        "colab": {
          "base_uri": "https://localhost:8080/"
        },
        "id": "_r3o2_gTYrcV",
        "outputId": "d34617bc-005c-4d68-a4be-fe187a621d48"
      },
      "outputs": [
        {
          "name": "stdout",
          "output_type": "stream",
          "text": [
            "Requirement already satisfied: wbdata in /usr/local/lib/python3.12/dist-packages (1.0.0)\n",
            "Requirement already satisfied: appdirs<2.0,>=1.4 in /usr/local/lib/python3.12/dist-packages (from wbdata) (1.4.4)\n",
            "Requirement already satisfied: backoff<3.0.0,>=2.2.1 in /usr/local/lib/python3.12/dist-packages (from wbdata) (2.2.1)\n",
            "Requirement already satisfied: cachetools<6.0.0,>=5.3.2 in /usr/local/lib/python3.12/dist-packages (from wbdata) (5.5.2)\n",
            "Requirement already satisfied: dateparser<2.0.0,>=1.2.0 in /usr/local/lib/python3.12/dist-packages (from wbdata) (1.2.2)\n",
            "Requirement already satisfied: decorator<6.0.0,>=5.1.1 in /usr/local/lib/python3.12/dist-packages (from wbdata) (5.2.1)\n",
            "Requirement already satisfied: requests<3.0,>=2.0 in /usr/local/lib/python3.12/dist-packages (from wbdata) (2.32.4)\n",
            "Requirement already satisfied: shelved-cache<0.4.0,>=0.3.1 in /usr/local/lib/python3.12/dist-packages (from wbdata) (0.3.1)\n",
            "Requirement already satisfied: tabulate<0.9.0,>=0.8.5 in /usr/local/lib/python3.12/dist-packages (from wbdata) (0.8.10)\n",
            "Requirement already satisfied: python-dateutil>=2.7.0 in /usr/local/lib/python3.12/dist-packages (from dateparser<2.0.0,>=1.2.0->wbdata) (2.9.0.post0)\n",
            "Requirement already satisfied: pytz>=2024.2 in /usr/local/lib/python3.12/dist-packages (from dateparser<2.0.0,>=1.2.0->wbdata) (2025.2)\n",
            "Requirement already satisfied: regex>=2024.9.11 in /usr/local/lib/python3.12/dist-packages (from dateparser<2.0.0,>=1.2.0->wbdata) (2024.11.6)\n",
            "Requirement already satisfied: tzlocal>=0.2 in /usr/local/lib/python3.12/dist-packages (from dateparser<2.0.0,>=1.2.0->wbdata) (5.3.1)\n",
            "Requirement already satisfied: charset_normalizer<4,>=2 in /usr/local/lib/python3.12/dist-packages (from requests<3.0,>=2.0->wbdata) (3.4.3)\n",
            "Requirement already satisfied: idna<4,>=2.5 in /usr/local/lib/python3.12/dist-packages (from requests<3.0,>=2.0->wbdata) (3.10)\n",
            "Requirement already satisfied: urllib3<3,>=1.21.1 in /usr/local/lib/python3.12/dist-packages (from requests<3.0,>=2.0->wbdata) (2.5.0)\n",
            "Requirement already satisfied: certifi>=2017.4.17 in /usr/local/lib/python3.12/dist-packages (from requests<3.0,>=2.0->wbdata) (2025.8.3)\n",
            "Requirement already satisfied: six>=1.5 in /usr/local/lib/python3.12/dist-packages (from python-dateutil>=2.7.0->dateparser<2.0.0,>=1.2.0->wbdata) (1.17.0)\n"
          ]
        }
      ],
      "source": [
        "!pip install wbdata\n"
      ]
    },
    {
      "cell_type": "code",
      "execution_count": 3,
      "metadata": {
        "id": "twd0gcScYrpV"
      },
      "outputs": [],
      "source": [
        "import wbdata\n",
        "import pandas as pd\n",
        "import datetime"
      ]
    },
    {
      "cell_type": "code",
      "execution_count": 11,
      "metadata": {
        "colab": {
          "base_uri": "https://localhost:8080/"
        },
        "id": "fLW8kuzaavT9",
        "outputId": "27ac2e28-57c4-4a5e-ead8-b1e6d0daa4df"
      },
      "outputs": [
        {
          "name": "stdout",
          "output_type": "stream",
          "text": [
            "['Metadata_Indicator_API_SE.ADT.LITR.FE.ZS_DS2_en_csv_v2_973736.csv', 'API_SE.ADT.LITR.FE.ZS_DS2_en_csv_v2_973736.csv', 'Metadata_Country_API_SE.ADT.LITR.FE.ZS_DS2_en_csv_v2_973736.csv']\n",
            "                  Country Name Country Code  \\\n",
            "0                        Aruba          ABW   \n",
            "1  Africa Eastern and Southern          AFE   \n",
            "2                  Afghanistan          AFG   \n",
            "3   Africa Western and Central          AFW   \n",
            "4                       Angola          AGO   \n",
            "\n",
            "                                      Indicator Name     Indicator Code  1960  \\\n",
            "0  Literacy rate, adult female (% of females ages...  SE.ADT.LITR.FE.ZS   NaN   \n",
            "1  Literacy rate, adult female (% of females ages...  SE.ADT.LITR.FE.ZS   NaN   \n",
            "2  Literacy rate, adult female (% of females ages...  SE.ADT.LITR.FE.ZS   NaN   \n",
            "3  Literacy rate, adult female (% of females ages...  SE.ADT.LITR.FE.ZS   NaN   \n",
            "4  Literacy rate, adult female (% of females ages...  SE.ADT.LITR.FE.ZS   NaN   \n",
            "\n",
            "   1961  1962  1963  1964  1965  ...       2016       2017       2018  \\\n",
            "0   NaN   NaN   NaN   NaN   NaN  ...        NaN        NaN        NaN   \n",
            "1   NaN   NaN   NaN   NaN   NaN  ...  65.011276  65.215439  65.872192   \n",
            "2   NaN   NaN   NaN   NaN   NaN  ...        NaN        NaN        NaN   \n",
            "3   NaN   NaN   NaN   NaN   NaN  ...  46.360519  47.375671  51.047100   \n",
            "4   NaN   NaN   NaN   NaN   NaN  ...        NaN        NaN        NaN   \n",
            "\n",
            "        2019       2020       2021       2022       2023  2024  Unnamed: 69  \n",
            "0        NaN  98.000000        NaN        NaN        NaN   NaN          NaN  \n",
            "1  67.269447  67.552330  67.457108  67.977257  68.425713   NaN          NaN  \n",
            "2        NaN        NaN  23.000000  26.596560        NaN   NaN          NaN  \n",
            "3  51.050529  51.290138  51.630718  51.954781  52.201920   NaN          NaN  \n",
            "4        NaN        NaN        NaN  62.500000        NaN   NaN          NaN  \n",
            "\n",
            "[5 rows x 70 columns]\n"
          ]
        }
      ],
      "source": [
        "import pandas as pd\n",
        "import zipfile\n",
        "import io\n",
        "import requests\n",
        "\n",
        "# URL du fichier zip World Bank\n",
        "url = \"http://api.worldbank.org/v2/en/indicator/SE.ADT.LITR.FE.ZS?downloadformat=csv\"\n",
        "\n",
        "# Télécharger le zip\n",
        "r = requests.get(url)\n",
        "z = zipfile.ZipFile(io.BytesIO(r.content))\n",
        "\n",
        "# Lister les fichiers contenus\n",
        "print(z.namelist())\n",
        "\n",
        "# Généralement, le fichier principal commence par \"API_\"\n",
        "data_file = [f for f in z.namelist() if f.startswith(\"API_\")][0]\n",
        "\n",
        "# Charger uniquement ce fichier\n",
        "df = pd.read_csv(z.open(data_file), header=2)\n",
        "\n",
        "print(df.head())\n"
      ]
    },
    {
      "cell_type": "code",
      "execution_count": null,
      "metadata": {
        "colab": {
          "base_uri": "https://localhost:8080/"
        },
        "id": "HWDYybTjbJI-",
        "outputId": "aa97d153-b3bf-499c-9a4c-c3af9532ee71"
      },
      "outputs": [
        {
          "name": "stdout",
          "output_type": "stream",
          "text": [
            "                Country Name Country Code  Year  Literacy_Female_Adult\n",
            "4                     Angola          AGO  1960                    NaN\n",
            "16                   Burundi          BDI  1960                    NaN\n",
            "18                     Benin          BEN  1960                    NaN\n",
            "19              Burkina Faso          BFA  1960                    NaN\n",
            "33                  Botswana          BWA  1960                    NaN\n",
            "34  Central African Republic          CAF  1960                    NaN\n",
            "41             Cote d'Ivoire          CIV  1960                    NaN\n",
            "42                  Cameroon          CMR  1960                    NaN\n",
            "43          Congo, Dem. Rep.          COD  1960                    NaN\n",
            "44               Congo, Rep.          COG  1960                    NaN\n"
          ]
        }
      ],
      "source": [
        "# Garder seulement Country Name, Country Code et les années\n",
        "df_clean = df.drop(columns=[\"Indicator Name\", \"Indicator Code\", \"Unnamed: 69\"], errors=\"ignore\")\n",
        "\n",
        "# Transformer les colonnes années en lignes (melt)\n",
        "df_long = df_clean.melt(id_vars=[\"Country Name\", \"Country Code\"],\n",
        "                        var_name=\"Year\", value_name=\"Literacy_Female_Adult\")\n",
        "\n",
        "# Conversion de Year en entier\n",
        "df_long[\"Year\"] = pd.to_numeric(df_long[\"Year\"], errors=\"coerce\")\n",
        "\n",
        "# Liste simplifiée de pays africains\n",
        "african_countries = [\n",
        "    \"DZA\",\"AGO\",\"BEN\",\"BWA\",\"BFA\",\"BDI\",\"CMR\",\"CPV\",\"CAF\",\"TCD\",\"COM\",\"COG\",\"CIV\",\n",
        "    \"COD\",\"DJI\",\"EGY\",\"GNQ\",\"ERI\",\"SWZ\",\"ETH\",\"GAB\",\"GMB\",\"GHA\",\"GIN\",\"GNB\",\"KEN\",\n",
        "    \"LSO\",\"LBR\",\"LBY\",\"MDG\",\"MWI\",\"MLI\",\"MRT\",\"MUS\",\"MAR\",\"MOZ\",\"NAM\",\"NER\",\"NGA\",\n",
        "    \"RWA\",\"STP\",\"SEN\",\"SYC\",\"SLE\",\"ZAF\",\"SSD\",\"SDN\",\"TZA\",\"TGO\",\"TUN\",\"UGA\",\"ZMB\",\"ZWE\"\n",
        "]\n",
        "\n",
        "# Filtrer uniquement l’Afrique\n",
        "df_africa = df_long[df_long[\"Country Code\"].isin(african_countries)]\n",
        "\n",
        "print(df_africa.head(10))\n"
      ]
    },
    {
      "cell_type": "code",
      "execution_count": 13,
      "metadata": {
        "colab": {
          "base_uri": "https://localhost:8080/"
        },
        "id": "K66FVGNObkeg",
        "outputId": "0335a89b-fe70-4f90-9628-b05aed27498b"
      },
      "outputs": [
        {
          "name": "stdout",
          "output_type": "stream",
          "text": [
            "                   Country Name Country Code  Year  Literacy_Female_Adult\n",
            "10644                    Angola          AGO  2000                    NaN\n",
            "10656                   Burundi          BDI  2000              52.000000\n",
            "10658                     Benin          BEN  2000                    NaN\n",
            "10659              Burkina Faso          BFA  2000                    NaN\n",
            "10673                  Botswana          BWA  2000                    NaN\n",
            "10674  Central African Republic          CAF  2000              35.000000\n",
            "10681             Cote d'Ivoire          CIV  2000              39.000000\n",
            "10682                  Cameroon          CMR  2000              59.000000\n",
            "10683          Congo, Dem. Rep.          COD  2000                    NaN\n",
            "10684               Congo, Rep.          COG  2000                    NaN\n",
            "10686                   Comoros          COM  2000              63.000000\n",
            "10687                Cabo Verde          CPV  2000              69.444557\n",
            "10696                  Djibouti          DJI  2000                    NaN\n",
            "10700                   Algeria          DZA  2000                    NaN\n",
            "10707          Egypt, Arab Rep.          EGY  2000                    NaN\n",
            "10709                   Eritrea          ERI  2000                    NaN\n",
            "10712                  Ethiopia          ETH  2000                    NaN\n",
            "10720                     Gabon          GAB  2000                    NaN\n",
            "10723                     Ghana          GHA  2000              50.000000\n",
            "10725                    Guinea          GIN  2000                    NaN\n"
          ]
        }
      ],
      "source": [
        "df_africa_recent = df_africa[df_africa[\"Year\"] >= 2000]\n",
        "print(df_africa_recent.head(20))\n"
      ]
    },
    {
      "cell_type": "code",
      "execution_count": 14,
      "metadata": {
        "colab": {
          "base_uri": "https://localhost:8080/"
        },
        "id": "sAynB-72cB3n",
        "outputId": "4454118f-7c60-46d1-b26c-9405efb0ebee"
      },
      "outputs": [
        {
          "name": "stdout",
          "output_type": "stream",
          "text": [
            "Year  Country Name Country Code  2000  2001  2002  2003  2004  2005  \\\n",
            "0          Algeria          DZA   NaN   NaN  60.0   NaN   NaN   NaN   \n",
            "1           Angola          AGO   NaN  54.0   NaN   NaN   NaN   NaN   \n",
            "2            Benin          BEN   NaN   NaN  23.0   NaN   NaN   NaN   \n",
            "3         Botswana          BWA   NaN   NaN   NaN  82.0   NaN   NaN   \n",
            "4     Burkina Faso          BFA   NaN   NaN   NaN  15.0   NaN  17.0   \n",
            "\n",
            "Year       2006  2007  ...      2013  2014      2015  2016      2017  \\\n",
            "0     64.000000   NaN  ...       NaN   NaN       NaN   NaN       NaN   \n",
            "1           NaN   NaN  ...       NaN  53.0  51.92598   NaN       NaN   \n",
            "2     18.442909   NaN  ...       NaN   NaN       NaN   NaN  28.54985   \n",
            "3           NaN   NaN  ...  87.45121   NaN       NaN   NaN       NaN   \n",
            "4     16.000000  21.0  ...       NaN  26.0       NaN   NaN       NaN   \n",
            "\n",
            "Year       2018       2019  2020       2021       2022  \n",
            "0     75.322968  74.210197   NaN        NaN        NaN  \n",
            "1           NaN        NaN   NaN        NaN  62.500000  \n",
            "2           NaN        NaN   NaN  33.134499  36.400002  \n",
            "3           NaN        NaN   NaN        NaN        NaN  \n",
            "4     31.000000  25.000000   NaN  31.031200  29.120001  \n",
            "\n",
            "[5 rows x 25 columns]\n"
          ]
        }
      ],
      "source": [
        "# Garder uniquement les années >= 2000\n",
        "df_africa_recent = df_africa[df_africa[\"Year\"] >= 2000]\n",
        "\n",
        "# Repasser en format large : colonnes = années\n",
        "df_wide = df_africa_recent.pivot_table(\n",
        "    index=[\"Country Name\", \"Country Code\"],\n",
        "    columns=\"Year\",\n",
        "    values=\"Literacy_Female_Adult\"\n",
        ")\n",
        "\n",
        "# Réinitialiser l’index pour avoir un DataFrame classique\n",
        "df_wide = df_wide.reset_index()\n",
        "\n",
        "print(df_wide.head())\n"
      ]
    },
    {
      "cell_type": "code",
      "execution_count": 16,
      "metadata": {
        "id": "ZXDtybrudT16"
      },
      "outputs": [],
      "source": [
        "# Exemple avec df_wide (alphabétisation femmes adultes, format large)\n",
        "df_wide.to_csv(\"literacy_female_adult_africa.csv\", index=False)\n"
      ]
    },
    {
      "cell_type": "code",
      "execution_count": 17,
      "metadata": {
        "colab": {
          "base_uri": "https://localhost:8080/"
        },
        "id": "46xU_iJReOIw",
        "outputId": "3411f051-0210-4a67-9ed5-d786ed426909"
      },
      "outputs": [
        {
          "name": "stdout",
          "output_type": "stream",
          "text": [
            "                  Country Name Country Code  \\\n",
            "0                        Aruba          ABW   \n",
            "1  Africa Eastern and Southern          AFE   \n",
            "2                  Afghanistan          AFG   \n",
            "3   Africa Western and Central          AFW   \n",
            "4                       Angola          AGO   \n",
            "\n",
            "                                      Indicator Name     Indicator Code  1960  \\\n",
            "0  Literacy rate, adult male (% of males ages 15 ...  SE.ADT.LITR.MA.ZS   NaN   \n",
            "1  Literacy rate, adult male (% of males ages 15 ...  SE.ADT.LITR.MA.ZS   NaN   \n",
            "2  Literacy rate, adult male (% of males ages 15 ...  SE.ADT.LITR.MA.ZS   NaN   \n",
            "3  Literacy rate, adult male (% of males ages 15 ...  SE.ADT.LITR.MA.ZS   NaN   \n",
            "4  Literacy rate, adult male (% of males ages 15 ...  SE.ADT.LITR.MA.ZS   NaN   \n",
            "\n",
            "   1961  1962  1963  1964  1965  ...       2016       2017       2018  \\\n",
            "0   NaN   NaN   NaN   NaN   NaN  ...        NaN        NaN        NaN   \n",
            "1   NaN   NaN   NaN   NaN   NaN  ...  77.493492  77.130371  77.390427   \n",
            "2   NaN   NaN   NaN   NaN   NaN  ...        NaN        NaN        NaN   \n",
            "3   NaN   NaN   NaN   NaN   NaN  ...  64.620819  65.608719  68.478432   \n",
            "4   NaN   NaN   NaN   NaN   NaN  ...        NaN        NaN        NaN   \n",
            "\n",
            "        2019       2020       2021       2022       2023  2024  Unnamed: 69  \n",
            "0        NaN  97.970001        NaN        NaN        NaN   NaN          NaN  \n",
            "1  78.304321  78.407883  78.060120  78.214447  78.343224   NaN          NaN  \n",
            "2        NaN        NaN  52.000000        NaN        NaN   NaN          NaN  \n",
            "3  68.083076  68.139099  68.403488  68.644974  68.826576   NaN          NaN  \n",
            "4        NaN        NaN        NaN  82.800003        NaN   NaN          NaN  \n",
            "\n",
            "[5 rows x 70 columns]\n"
          ]
        }
      ],
      "source": [
        "import pandas as pd\n",
        "import zipfile, io, requests\n",
        "\n",
        "def download_wb_data(indicator):\n",
        "    url = f\"http://api.worldbank.org/v2/en/indicator/{indicator}?downloadformat=csv\"\n",
        "    r = requests.get(url)\n",
        "    z = zipfile.ZipFile(io.BytesIO(r.content))\n",
        "\n",
        "    # Prendre le bon fichier (API_...)\n",
        "    data_file = [f for f in z.namelist() if f.startswith(\"API_\")][0]\n",
        "\n",
        "    df = pd.read_csv(z.open(data_file), header=2)\n",
        "    return df\n",
        "\n",
        "# Exemple : alphabétisation hommes adultes\n",
        "df_male = download_wb_data(\"SE.ADT.LITR.MA.ZS\")\n",
        "print(df_male.head())\n"
      ]
    },
    {
      "cell_type": "code",
      "execution_count": null,
      "metadata": {
        "colab": {
          "base_uri": "https://localhost:8080/"
        },
        "id": "KSw8hhcRluik",
        "outputId": "043748cc-a36d-4cc1-edcf-a0b0b91d9ddf"
      },
      "outputs": [
        {
          "name": "stdout",
          "output_type": "stream",
          "text": [
            "⚠️ Indicateur SM.POP.NETM.ZS (Net_Migration_Percent) introuvable ou indisponible.\n",
            "✅ Dataset final créé : 'Africa_Education_Development.csv'\n",
            "Dimensions : (1272, 15)\n",
            "   Country Name Country Code    Year  Literacy_Female_Adult  \\\n",
            "40      Algeria          DZA  2000.0                    NaN   \n",
            "41      Algeria          DZA  2001.0                    NaN   \n",
            "42      Algeria          DZA  2002.0                   60.0   \n",
            "43      Algeria          DZA  2003.0                    NaN   \n",
            "44      Algeria          DZA  2004.0                    NaN   \n",
            "\n",
            "    Literacy_Male_Adult  Literacy_Female_Youth  Literacy_Male_Youth  \\\n",
            "40                  NaN                    NaN                  NaN   \n",
            "41                  NaN                    NaN                  NaN   \n",
            "42                 79.0                   86.0                 94.0   \n",
            "43                  NaN                    NaN                  NaN   \n",
            "44                  NaN                    NaN                  NaN   \n",
            "\n",
            "    GDP_per_capita  Education_Expenditure  Urban_Population  Poverty  \\\n",
            "40     3553.324205                    NaN            59.919      NaN   \n",
            "41     3610.006056                    NaN            60.712      NaN   \n",
            "42     3754.660815                    NaN            61.501      NaN   \n",
            "43     3945.898161                    NaN            62.284      NaN   \n",
            "44     4066.282048                    NaN            63.061      NaN   \n",
            "\n",
            "    Child_Marriage_Under18  Child_Marriage_Under15  Net_Migration  \\\n",
            "40                     NaN                     NaN       -16454.0   \n",
            "41                     NaN                     NaN       -26539.0   \n",
            "42                     NaN                     NaN       -36255.0   \n",
            "43                     NaN                     NaN       -39421.0   \n",
            "44                     NaN                     NaN       -38648.0   \n",
            "\n",
            "    Fertility_Rate  \n",
            "40           2.590  \n",
            "41           2.519  \n",
            "42           2.429  \n",
            "43           2.451  \n",
            "44           2.500  \n"
          ]
        }
      ],
      "source": [
        "import pandas as pd\n",
        "import zipfile, io, requests\n",
        "\n",
        "african_countries = [\n",
        "    \"DZA\",\"AGO\",\"BEN\",\"BWA\",\"BFA\",\"BDI\",\"CMR\",\"CPV\",\"CAF\",\"TCD\",\"COM\",\"COG\",\"CIV\",\n",
        "    \"COD\",\"DJI\",\"EGY\",\"GNQ\",\"ERI\",\"SWZ\",\"ETH\",\"GAB\",\"GMB\",\"GHA\",\"GIN\",\"GNB\",\"KEN\",\n",
        "    \"LSO\",\"LBR\",\"LBY\",\"MDG\",\"MWI\",\"MLI\",\"MRT\",\"MUS\",\"MAR\",\"MOZ\",\"NAM\",\"NER\",\"NGA\",\n",
        "    \"RWA\",\"STP\",\"SEN\",\"SYC\",\"SLE\",\"ZAF\",\"SSD\",\"SDN\",\"TZA\",\"TGO\",\"TUN\",\"UGA\",\"ZMB\",\"ZWE\"\n",
        "]\n",
        "\n",
        "def download_and_clean(indicator, colname):\n",
        "    url = f\"http://api.worldbank.org/v2/en/indicator/{indicator}?downloadformat=csv\"\n",
        "    r = requests.get(url)\n",
        "\n",
        "    try:\n",
        "        z = zipfile.ZipFile(io.BytesIO(r.content))\n",
        "        data_file = [f for f in z.namelist() if f.startswith(\"API_\")][0]\n",
        "        df = pd.read_csv(z.open(data_file), header=2)\n",
        "        df = df.drop(columns=[\"Indicator Name\", \"Indicator Code\"], errors=\"ignore\")\n",
        "        df = df.melt(id_vars=[\"Country Name\", \"Country Code\"],\n",
        "                     var_name=\"Year\", value_name=colname)\n",
        "        df[\"Year\"] = pd.to_numeric(df[\"Year\"], errors=\"coerce\")\n",
        "        return df\n",
        "    except Exception as e:\n",
        "        print(f\" Indicateur {indicator} ({colname}) introuvable ou indisponible.\")\n",
        "        return None\n",
        "\n",
        "indicators = {\n",
        "    \"Literacy_Female_Adult\": \"SE.ADT.LITR.FE.ZS\",\n",
        "    \"Literacy_Male_Adult\": \"SE.ADT.LITR.MA.ZS\",\n",
        "    \"Literacy_Female_Youth\": \"SE.ADT.1524.LT.FE.ZS\",\n",
        "    \"Literacy_Male_Youth\": \"SE.ADT.1524.LT.MA.ZS\",\n",
        "    \"GDP_per_capita\": \"NY.GDP.PCAP.KD\",\n",
        "    \"Education_Expenditure\": \"SE.XPD.TOTL.GD.ZS\",\n",
        "    \"Urban_Population\": \"SP.URB.TOTL.IN.ZS\",\n",
        "    \"Poverty\": \"SI.POV.DDAY\",\n",
        "    \"Child_Marriage_Under18\": \"SP.M18.2024.FE.ZS\",\n",
        "    \"Child_Marriage_Under15\": \"SP.M15.2024.FE.ZS\",\n",
        "    \"Net_Migration\": \"SM.POP.NETM\",\n",
        "    \"Net_Migration_Percent\": \"SM.POP.NETM.ZS\",\n",
        "    \"Fertility_Rate\": \"SP.DYN.TFRT.IN\"\n",
        "}\n",
        "\n",
        "merged = None\n",
        "for colname, code in indicators.items():\n",
        "    df = download_and_clean(code, colname)\n",
        "    if df is not None:\n",
        "        df = df[df[\"Country Code\"].isin(african_countries)]\n",
        "        if merged is None:\n",
        "            merged = df\n",
        "        else:\n",
        "            merged = merged.merge(df, on=[\"Country Name\", \"Country Code\", \"Year\"], how=\"outer\")\n",
        "\n",
        "# Garder 2000–2023\n",
        "merged = merged[(merged[\"Year\"] >= 2000) & (merged[\"Year\"] <= 2023)]\n",
        "\n",
        "# Sauvegarde\n",
        "merged.to_csv(\"Africa_Education_Development.csv\", index=False)\n",
        "\n",
        "print(\" Dataset final créé : 'Africa_Education_Development.csv'\")\n",
        "print(\"Dimensions :\", merged.shape)\n",
        "print(merged.head())\n"
      ]
    }
  ],
  "metadata": {
    "colab": {
      "provenance": []
    },
    "kernelspec": {
      "display_name": "Python 3",
      "name": "python3"
    },
    "language_info": {
      "name": "python"
    }
  },
  "nbformat": 4,
  "nbformat_minor": 0
}
